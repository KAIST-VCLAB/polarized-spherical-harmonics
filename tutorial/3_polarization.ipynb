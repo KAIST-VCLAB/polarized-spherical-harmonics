{
 "cells": [
  {
   "cell_type": "markdown",
   "metadata": {},
   "source": [
    "# Chapter 3. Polarization and Mueller Calculus\n",
    "See also M-Sec. 4.2. and S-Sec. 3"
   ]
  },
  {
   "cell_type": "code",
   "execution_count": 1,
   "metadata": {},
   "outputs": [],
   "source": [
    "import numpy as np\n",
    "import matplotlib.pyplot as plt\n",
    "import matplotlib.colors as mcolors\n",
    "from IPython.display import display, Math\n",
    "import vispy\n",
    "import polarsh as psh\n",
    "from utils import math_stokes\n",
    "\n",
    "cam2world_vispy = vispy.util.quaternion.Quaternion(np.cos(np.pi/4), -np.sin(np.pi/4), 0, 0) # +Y-up -Z-forward, in vispy camera convention\n",
    "psh.set_visoptions_vispy(arrow_size=0.3, arrow_scale=0.3, title_size = 12,\n",
    "                         cam2world=cam2world_vispy, figsize=(900, 300)) "
   ]
  },
  {
   "cell_type": "markdown",
   "metadata": {},
   "source": [
    "## 3.1. Stokes parameters, measurement frames, and Stokes vectors\n",
    "While intensity of unpolarized light is simply described as a scalar (per color channel/spectrum) without considering the direction of the ray, intensity of a polarized light cannot be defined without considering the direction.\n",
    "\n",
    "Let's fix the direction of light to be as `[0, 0, 1]`$=\\hat z_g\\in\\hat{\\mathbb{S}}^2$, as same as the global (world) $z$ axis. To describe polarized intensity of a ray with direction $\\hat z_g$, we first need to assign a *measurement frame* (= reference frame, local frame) $\\vec{\\mathbf F}$, which has the ray direction as its local $z$ axis (`F[:,2]` is the ray direction below). It can be described by the `psh.SphereFrameField` class. While it will be explained in more detail in [Chapter 4. Stokes Vector Fields](./4_Stokes_vector_fields.ipynb), here simply use that calling `psh.SphereFrameField(sphG, F)` with an `psh.SphereGrid` instance with a single point and a `np.ndarray` instance `F` with the shape `(3, 3)` constructs an instance.\n",
    "\n",
    "With the frame $\\vec{\\mathbf F}$ and four *Stokes parameters* $s_0$, $s_1$, $s_2$, and $s_3$, we can characterize a *Stokes vector* $\\overset{\\leftrightarrow}s$. In the `polarsh` package, `psh.StokesField(sphFF, Stk)` can represent a Stokes vector where `sphFF: psh.SphereFrameField` is a measurement frame and `Stk: np.ndarray[..., 4]` is the Stokes parameters (Stokes component vector).\n",
    "\n",
    "> **Note**\n",
    "> Taking all the four Stokes parameters into account, the most accurate visualization would be using ellipses. However, ellipse visualization has not been implemented currently. However, double-sided arrow visualization is enough to understand the frame dependency of Stokes vectors.\n"
   ]
  },
  {
   "cell_type": "code",
   "execution_count": 2,
   "metadata": {},
   "outputs": [
    {
     "name": "stdout",
     "output_type": "stream",
     "text": [
      "Stokes parameters: [1, 1, 0, 0]\n"
     ]
    },
    {
     "data": {
      "application/vnd.jupyter.widget-view+json": {
       "model_id": "6f40f4aa1c8a452286c3cd6bc5495728",
       "version_major": 2,
       "version_minor": 0
      },
      "text/plain": [
       "RFBOutputContext()"
      ]
     },
     "metadata": {},
     "output_type": "display_data"
    },
    {
     "name": "stdout",
     "output_type": "stream",
     "text": [
      "[Keyboard interface]\n",
      "A: hide/show global axes\n",
      "G: hide/show sphere grids\n",
      "F: show x(, y(, z)) axes for the frame field\n",
      "[Keyboard interface]\n",
      "A: hide/show global axes\n"
     ]
    },
    {
     "data": {
      "application/vnd.jupyter.widget-view+json": {
       "model_id": "a4ac2bac7bd14237aaa882038725d85e",
       "version_major": 2,
       "version_minor": 0
      },
      "text/html": [
       "<div class='snapshot-a4ac2bac7bd14237aaa882038725d85e' style='position:relative;'><img src='data:image/png;base64,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' style='width:900.0px;height:300.0px;' /><div style='position: absolute; top:0; left:0; padding:1px 3px; background: #777; color:#fff; font-size: 90%; font-family:sans-serif; '>snapshot</div></div>"
      ],
      "text/plain": [
       "CanvasBackend(css_width='900px')"
      ]
     },
     "metadata": {},
     "output_type": "display_data"
    }
   ],
   "source": [
    "sphG = psh.SphereGrid(psh.DomType.UNI, psh.AngType.RAD, 0, 0) # (θ, φ)=(0, 0), i.e., [0, 0, 1] in Cartesian\n",
    "F1 = np.eye(3)\n",
    "sphFF1 = psh.SphereFrameField(sphG, F1)\n",
    "\n",
    "Stk1 = [1, 1, 0, 0] # (numeric) Stokes component vector\n",
    "print(f\"Stokes parameters: {Stk1}\")\n",
    "stkF1 = psh.StokesField(sphFF1, Stk1) # (geometric) Stokes vector\n",
    "with psh.visualize_layout(1, 2):\n",
    "    sphFF1.visualize(title=f\"(a) Measurement frame `sphFF1: {type(sphFF1).__name__}`\")\n",
    "    stkF1.visualize(title=f\"(b) Stokes vector `stkF: {type(stkF1).__name__}`\")"
   ]
  },
  {
   "cell_type": "markdown",
   "metadata": {},
   "source": [
    "We distinguish Stokes vectors and Stokes parameters (considering the parameters as a single numeric vector $\\mathbf s \\coloneqq\\left[s_0, s_1, s_2, s_3\\right]^T$, we call it a *Stokes component vector*) as *geometric* and *numeric* quantities. Geometric Stokes vectors can be understood as double-sided arrow visualized by `psh.StokesField.visualize()`, and numeric Stokes component vectors. Using a different famre (`sphFF2` below) the Stokes component vector changes but we say that the original geometric quantity (Stokes vector, `stkF`) does not change.\n",
    "\n",
    "Note that we denote the relationship between the geometric Stokes vectors and numeric Stokes component vectors as:\n",
    "$$\\tag{M-15, 16}\n",
    "\\overset{\\leftrightarrow}{s} = \\left[\\mathbf{s}\\right]_{\\vec{\\mathbf F}}, \\quad \\mathbf{s} = \\left[\\overset{\\leftrightarrow}{s}\\right]^{\\vec{\\mathbf F}}\n",
    "$$\n",
    "\n",
    "`psh.StokesField.to_SphFF(sphFF: psh.SphereFrameField) -> psh.StokesField` changes its internal representation under different frame, but the object itself will be treated as the identical one."
   ]
  },
  {
   "cell_type": "code",
   "execution_count": 3,
   "metadata": {},
   "outputs": [
    {
     "name": "stdout",
     "output_type": "stream",
     "text": [
      "Stokes parameters: [ 1.0000000e+00 -1.0000000e+00 -1.2246468e-16  0.0000000e+00]\n"
     ]
    },
    {
     "data": {
      "application/vnd.jupyter.widget-view+json": {
       "model_id": "0b4a08b211714015950ffe0e91a32bc4",
       "version_major": 2,
       "version_minor": 0
      },
      "text/plain": [
       "RFBOutputContext()"
      ]
     },
     "metadata": {},
     "output_type": "display_data"
    },
    {
     "name": "stdout",
     "output_type": "stream",
     "text": [
      "[Keyboard interface]\n",
      "A: hide/show global axes\n",
      "G: hide/show sphere grids\n",
      "F: show x(, y(, z)) axes for the frame field\n",
      "[Keyboard interface]\n",
      "A: hide/show global axes\n"
     ]
    },
    {
     "data": {
      "application/vnd.jupyter.widget-view+json": {
       "model_id": "198eab8fd7214746b42102bcb4b198aa",
       "version_major": 2,
       "version_minor": 0
      },
      "text/html": [
       "<div class='snapshot-198eab8fd7214746b42102bcb4b198aa' style='position:relative;'><img src='data:image/png;base64,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' style='width:900.0px;height:300.0px;' /><div style='position: absolute; top:0; left:0; padding:1px 3px; background: #777; color:#fff; font-size: 90%; font-family:sans-serif; '>snapshot</div></div>"
      ],
      "text/plain": [
       "CanvasBackend(css_width='900px')"
      ]
     },
     "metadata": {},
     "output_type": "display_data"
    }
   ],
   "source": [
    "F2 = np.eye(3) @ psh.rotz(np.pi/2)\n",
    "sphFF2 = psh.SphereFrameField(sphG, F2)\n",
    "stkF2 = stkF1.to_SphFF(sphFF2)\n",
    "Stk2 = stkF2.Stk\n",
    "\n",
    "print(f\"Stokes parameters: {Stk2}\")\n",
    "with psh.visualize_layout(1, 2):\n",
    "    sphFF2.visualize(title=f\"(a) Measurement frame `sphFF2`\")\n",
    "    stkF2.visualize(title=f\"(b) Stokes vector `stkF2`\")"
   ]
  },
  {
   "cell_type": "markdown",
   "metadata": {},
   "source": [
    "Observe that the frame (`sphFF1` and `sphFF2`) rotated by $\\frac\\pi2$ around the $z$ axis but the `psh.StokesField` objects are identically visualized. However, their (numeric) Stokes component vector were changed from $\\left[1, 1, 0, 0\\right]$ to $\\left[1, -1, 0, 0\\right]$ due to the coordinate conversion property of Stokes vectors.\n",
    "\n",
    "For $\\vec{\\mathbf F}_2 = \\vec{\\mathbf F}_1 \\mathbf R_{z}\\left(\\vartheta\\right)$ (here, $\\vec{\\mathbf F}_i=$`sphFFi` and $\\vartheta=\\frac\\pi2$), denotes (numeric) Stokes component vectors of a (geometric) Stokes vector $\\overset{\\leftrightarrow}s$ with respect to $\\vec{\\mathbf F}_1$ ($\\vec{\\mathbf F}_2$, resp.) by $\\mathbf s_1$ ($\\mathbf s_2$, resp.). Then these two Stokes component vectors satisfy:\n",
    "$$\\tag{M-14, S-83}\n",
    "\\mathbf s_2 = \\begin{bmatrix}\n",
    "    1&0&0&0 \\\\\n",
    "    0&\\cos 2\\vartheta & \\sin2\\vartheta &0 \\\\\n",
    "    0&-\\sin2\\vartheta & \\cos2\\vartheta & 0 \\\\\n",
    "    0&0&0&1\n",
    "\\end{bmatrix}\\mathbf s_1.\n",
    "$$\n",
    "`psh.StokesField.to_SphFF()` performs this conversion internally."
   ]
  },
  {
   "cell_type": "code",
   "execution_count": 4,
   "metadata": {},
   "outputs": [
    {
     "data": {
      "text/latex": [
       "$\\displaystyle {\\overset{\\leftrightarrow}{s}}_1 = \\left[\\mathbf{s}_1\\right]_{\\vec{\\mathbf F}_1} = {\\overset{\\leftrightarrow}{s}}_2 = \\left[\\mathbf{s}_2\\right]_{\\vec{\\mathbf F}_2}$"
      ],
      "text/plain": [
       "<IPython.core.display.Math object>"
      ]
     },
     "metadata": {},
     "output_type": "display_data"
    }
   ],
   "source": [
    "assert stkF1.allclose(stkF2)\n",
    "display(Math(r\"%s_1 = \\left[\\mathbf{s}_1\\right]_{\\vec{\\mathbf F}_1} = %s_2 = \\left[\\mathbf{s}_2\\right]_{\\vec{\\mathbf F}_2}\" % ((math_stokes(\"s\"),)*2)))"
   ]
  },
  {
   "cell_type": "markdown",
   "metadata": {},
   "source": [
    "## 3.2. Operations on Stokes vectors\n",
    "Several operations on Stokes vectors are well defined. Defining addition, scalar multiplication, and inner products using ones of Stokes component vectors under a fixed measurement frame, the resulting Stokes vectors (addition, scalar multiplication) and scalar values (inner product) do not dependent on choice of measurement frames"
   ]
  },
  {
   "cell_type": "code",
   "execution_count": 5,
   "metadata": {},
   "outputs": [
    {
     "name": "stdout",
     "output_type": "stream",
     "text": [
      "# Inner products:\n"
     ]
    },
    {
     "data": {
      "text/latex": [
       "$\\displaystyle \\left\\langle {\\overset \\leftrightarrow s}_1, {\\overset \\leftrightarrow s}_2\\right\\rangle_{\\mathcal S}=1.000000$"
      ],
      "text/plain": [
       "<IPython.core.display.Math object>"
      ]
     },
     "metadata": {},
     "output_type": "display_data"
    },
    {
     "data": {
      "text/latex": [
       "$\\displaystyle \\left\\langle {\\overset \\leftrightarrow s}_1, {\\overset \\leftrightarrow s}_3\\right\\rangle_{\\mathcal S}=0.000000$"
      ],
      "text/plain": [
       "<IPython.core.display.Math object>"
      ]
     },
     "metadata": {},
     "output_type": "display_data"
    },
    {
     "data": {
      "text/latex": [
       "$\\displaystyle \\left\\langle {\\overset \\leftrightarrow s}_2, {\\overset \\leftrightarrow s}_3\\right\\rangle_{\\mathcal S}=1.000000$"
      ],
      "text/plain": [
       "<IPython.core.display.Math object>"
      ]
     },
     "metadata": {},
     "output_type": "display_data"
    },
    {
     "data": {
      "application/vnd.jupyter.widget-view+json": {
       "model_id": "876fba417c974bb69291350b8005a981",
       "version_major": 2,
       "version_minor": 0
      },
      "text/plain": [
       "RFBOutputContext()"
      ]
     },
     "metadata": {},
     "output_type": "display_data"
    },
    {
     "data": {
      "application/vnd.jupyter.widget-view+json": {
       "model_id": "b259ef38bc0c48f2a855b2b235c6d376",
       "version_major": 2,
       "version_minor": 0
      },
      "text/html": [
       "<div class='snapshot-b259ef38bc0c48f2a855b2b235c6d376' style='position:relative;'><img src='data:image/png;base64,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' style='width:600.0px;height:600.0px;' /><div style='position: absolute; top:0; left:0; padding:1px 3px; background: #777; color:#fff; font-size: 90%; font-family:sans-serif; '>snapshot</div></div>"
      ],
      "text/plain": [
       "CanvasBackend(css_height='600px', css_width='600px')"
      ]
     },
     "metadata": {},
     "output_type": "display_data"
    }
   ],
   "source": [
    "stkF1 = psh.StokesField(sphFF1, [1, 1, 0, 0])\n",
    "stkF2 = psh.StokesField(sphFF1, [1, 0, 1, 0])\n",
    "stkF3 = psh.StokesField(sphFF1, [1, -1, 0, 0])\n",
    "stkF_list = [stkF1, stkF2, stkF3]\n",
    "\n",
    "stkF_add12 = stkF1 + stkF2\n",
    "stkF_add13 = stkF1 + stkF3\n",
    "stkF_add23 = stkF2 + stkF3\n",
    "stkF_mul1 = stkF1 * 2\n",
    "stkF_neg1 = stkF1 * -1\n",
    "\n",
    "print(\"# Inner products:\")\n",
    "def inner(stkFi: psh.StokesField, stkFj: psh.StokesField) -> float:\n",
    "    # `stkF.wrt_SphFF(sphFF)` is a shorthand of `stkF.to_SphFF(sphFF).Stk`\n",
    "    return (stkFi.Stk * stkFj.wrt_SphFF(stkFi.SphFF)).sum()\n",
    "\n",
    "for i, stkFi in enumerate(stkF_list):\n",
    "    for j, stkFj in enumerate(stkF_list[i+1:]):\n",
    "        mathtxt_format = r\"\\left\\langle {\\overset \\leftrightarrow s}_%d, {\\overset \\leftrightarrow s}_%d\\right\\rangle_{\\mathcal S}=%f\"\n",
    "        display(Math(mathtxt_format % (i+1,i+j+2, inner(stkFi, stkFj))))\n",
    "\n",
    "with psh.visualize_layout(3, 3, figsize=(600, 600)):\n",
    "    stkF1.visualize(title=\"stkF1\", help=False)\n",
    "    stkF2.visualize(title=\"stkF2\", help=False)\n",
    "    stkF3.visualize(title=\"stkF3\", help=False)\n",
    "\n",
    "    stkF_add12.visualize(title=\"stkF1+stkF2\", help=False)\n",
    "    stkF_add13.visualize(title=\"stkF1+stkF3\", help=False)\n",
    "    stkF_add23.visualize(title=\"stkF2+stkF3\", help=False)\n",
    "\n",
    "    stkF_mul1.visualize(title=\"2*stkF1\", help=False)\n",
    "    stkF_neg1.visualize(title=\"-stkF1\", help=False)\n",
    "    psh.visualize_layout.skip()"
   ]
  },
  {
   "cell_type": "code",
   "execution_count": 6,
   "metadata": {},
   "outputs": [
    {
     "name": "stdout",
     "output_type": "stream",
     "text": [
      "Clear!\n"
     ]
    }
   ],
   "source": [
    "# Check well-definedness!\n",
    "sphFF2 = psh.SphereFrameField(sphG, psh.rotz(np.pi/2))\n",
    "sphFF3 = psh.SphereFrameField(sphG, psh.rotz(-np.pi/2))\n",
    "sphFF4 = psh.SphereFrameField(sphG, psh.rotz(np.pi/4))\n",
    "sphFF_list = [sphFF2, sphFF3, sphFF4]\n",
    "for sphFFi in sphFF_list:\n",
    "    # stkF1.allclose(stkF2) == np.allclose(stkF1.Stk, stkF2.wrt_SphFF(stkF1.SphFF))\n",
    "    assert stkF1.allclose(stkF1.to_SphFF(sphFFi)) # Different numeric representation, but identical geometric quantity!\n",
    "\n",
    "    stkF_mul1_alt = stkF1.to_SphFF(sphFFi) * 2\n",
    "    \n",
    "    assert stkF_mul1.allclose(stkF_mul1_alt)\n",
    "\n",
    "    for sphFFj in sphFF_list:\n",
    "        stkF_add12_alt = stkF1.to_SphFF(sphFFi) + stkF2.to_SphFF(sphFFj)\n",
    "        assert stkF_add12.allclose(stkF_add12_alt)\n",
    "        inner_alt = inner(stkF1.to_SphFF(sphFFi), stkF2.to_SphFF(sphFFj))\n",
    "        assert np.allclose(inner(stkF1, stkF2), inner_alt)\n",
    "print(\"Clear!\")"
   ]
  },
  {
   "cell_type": "markdown",
   "metadata": {},
   "source": [
    "Rotation of a Stokes vector $\\overset{\\leftrightarrow}s\\in \\mathcal{S}_{\\hat \\omega}$ by a rotaion transform $\\vec R\\in \\overrightarrow{SO}\\left(3\\right)$ is defined as:\n",
    "$$\\tag{M-19}\n",
    "\\vec R_{\\mathcal S}\\overset{\\leftrightarrow}s \\coloneqq \\left[\\left[\\overset{\\leftrightarrow}s\\right]^{\\vec{\\mathbf F}}\\right]_{\\vec{\\mathbf F}} \\in \\mathcal{S}_{\\vec R\\hat \\omega}.\n",
    "$$"
   ]
  },
  {
   "cell_type": "code",
   "execution_count": 7,
   "metadata": {},
   "outputs": [
    {
     "data": {
      "application/vnd.jupyter.widget-view+json": {
       "model_id": "850073678aff4084a07989b23899978d",
       "version_major": 2,
       "version_minor": 0
      },
      "text/plain": [
       "RFBOutputContext()"
      ]
     },
     "metadata": {},
     "output_type": "display_data"
    },
    {
     "data": {
      "application/vnd.jupyter.widget-view+json": {
       "model_id": "3dba5c6f5e6f430c8879d48f18d9f789",
       "version_major": 2,
       "version_minor": 0
      },
      "text/html": [
       "<div class='snapshot-3dba5c6f5e6f430c8879d48f18d9f789' style='position:relative;'><img src='data:image/png;base64,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' style='width:750.0px;height:500.0px;' /><div style='position: absolute; top:0; left:0; padding:1px 3px; background: #777; color:#fff; font-size: 90%; font-family:sans-serif; '>snapshot</div></div>"
      ],
      "text/plain": [
       "CanvasBackend(css_height='500px', css_width='750px')"
      ]
     },
     "metadata": {},
     "output_type": "display_data"
    }
   ],
   "source": [
    "stkF_list = [stkF1, stkF2, stkF3]\n",
    "rotvec = [np.pi/4, 0, 0]\n",
    "stkF_rot_list = [stkF.apply_rotation(rotvec) for stkF in stkF_list]\n",
    "\n",
    "with psh.visualize_layout(2, 3, figsize=(750, 500)):\n",
    "    for i,stkF in enumerate(stkF_list):\n",
    "        stkF.visualize(title=f\"stkF{i+1}\", help=False)\n",
    "\n",
    "    for i,stkF in enumerate(stkF_rot_list):\n",
    "        stkF.visualize(title=f\"R_S stkF{i+1}\", help=False)"
   ]
  },
  {
   "cell_type": "markdown",
   "metadata": {},
   "source": [
    "Note that the resulting Stokes vector is contained in a different Stokes space $\\mathcal{S}_{\\vec R\\hat \\omega}$ from the original one whenever $\\vec R\\ne \\vec R_{\\hat \\omega}\\left(\\vartheta\\right)$. Thus, several operations including addition and inner product between $\\overset{\\leftrightarrow}s$ and $\\vec R_{\\mathcal S}\\overset{\\leftrightarrow}s$ will not be defined in general."
   ]
  },
  {
   "cell_type": "code",
   "execution_count": 8,
   "metadata": {},
   "outputs": [
    {
     "name": "stdout",
     "output_type": "stream",
     "text": [
      "Error!\n",
      "Error!\n",
      "Error!\n",
      "Error!\n",
      "Error!\n",
      "Error!\n"
     ]
    }
   ],
   "source": [
    "for stkF, stkF_rot in zip(stkF_list, stkF_rot_list):\n",
    "    try:\n",
    "        stkF + stkF_rot\n",
    "    except:\n",
    "        print(\"Error!\")\n",
    "    try:\n",
    "        inner(stkF, stkF_rot)\n",
    "    except:\n",
    "        print(\"Error!\")"
   ]
  },
  {
   "cell_type": "markdown",
   "metadata": {},
   "source": [
    "## 3.3. Full vs. spin-2 Stokes vectors\n",
    "For some context, considering only partial components in Stokes parameters will be useful. In `polarsh`, which Stokes parameters given object covers is usually stored as an attibute of `psh.CodType` instance. The class `psh.CodType` is name after *codomain type*, and is a subclass of `EnumInt`.\n",
    "\n",
    "`psh.CodType`\n",
    "* `psh.CodType.SCALAR`: $s_0$ (`ScalarField`)\n",
    "* `psh.CodType.POLAR2`: $s_1$, $s_2$ (`StokesField`) *spin-2 Stokes vectors*\n",
    "* `psh.CodType.POLAR3`: $s_0$, $s_1$, $s_2$ (`StokesField`)\n",
    "* `psh.CodType.POLAR4`: $s_0$, $s_1$, $s_2$, $s_3$ (`StokesField`) *(full) Stokes vectors*\n",
    "<!-- ![](./tutorial_figure/CodType.png) -->\n",
    "<img src=\"./tutorial_figure/CodType.png\" style=\"width:800px\">\n",
    "\n",
    "The main challenge of Stokes vectors in terms of spherical domain and frame dependency comes from $s_1$ and $s_2$ components. We call Stokes vectors without $s_0$ and $s_3$ components *spin-2 Stokes vectors*."
   ]
  },
  {
   "cell_type": "code",
   "execution_count": 9,
   "metadata": {},
   "outputs": [
    {
     "name": "stdout",
     "output_type": "stream",
     "text": [
      "StokesField[\n",
      "  dom_type = <DomType.UNI: 0>,\n",
      "  Stk.shape = [g: | c: | p:4],\n",
      "]\n",
      "stkF1.cod_type = <CodType.POLAR4: 4>, (full) Stokes vector\n",
      "stkF1.Stk = array([1, 1, 0, 0])\n",
      "\n",
      "StokesField[\n",
      "  dom_type = <DomType.UNI: 0>,\n",
      "  Stk.shape = [g: | c: | p:2],\n",
      "]\n",
      "stkF1s2.cod_type = <CodType.POLAR2: 2>, spin-2 Stokes vector\n",
      "stkF1s2.Stk = array([1, 0])\n",
      "\n"
     ]
    }
   ],
   "source": [
    "print(stkF1)\n",
    "print(f\"{stkF1.cod_type = }, (full) Stokes vector\")\n",
    "print(f\"{stkF1.Stk = }\\n\")\n",
    "\n",
    "stkF1s2 = stkF1.to_CodType(psh.CodType.POLAR2) # `stkF.to_CodType(\"POLAR2\")`, in a shorthand\n",
    "print(stkF1s2)\n",
    "print(f\"{stkF1s2.cod_type = }, spin-2 Stokes vector\")\n",
    "print(f\"{stkF1s2.Stk = }\\n\")"
   ]
  },
  {
   "cell_type": "markdown",
   "metadata": {},
   "source": [
    "For spin-2 Stokes vectors, we can consider their $s_1$ and $s_2$ components as singles complex numbers $s_1+is_2$ is sometimes useful. It will be useful to understand basis of Stokes vector fields, which will be introduced in later chapters.\n",
    "\n",
    "* Complex scalar multiplication:\n",
    "$$\\tag{M-Eq.(20), S-Def. 3.4.(1)}\n",
    "z\\left[s_1+is_2\\right]_{\\vec {\\mathbf F}} = \\left[z\\left(s_1+is_2\\right)\\right]_{\\vec {\\mathbf F}}\n",
    "$$\n",
    "Particularly, $i\\overset\\leftrightarrow s$ is the rotated $\\overset\\leftrightarrow s$ by $\\frac \\pi 4$ around its local $z$ axis (the direction of ray)."
   ]
  },
  {
   "cell_type": "code",
   "execution_count": 10,
   "metadata": {},
   "outputs": [
    {
     "data": {
      "application/vnd.jupyter.widget-view+json": {
       "model_id": "d68c774cafd144c59af2f9b387713b14",
       "version_major": 2,
       "version_minor": 0
      },
      "text/plain": [
       "RFBOutputContext()"
      ]
     },
     "metadata": {},
     "output_type": "display_data"
    },
    {
     "data": {
      "application/vnd.jupyter.widget-view+json": {
       "model_id": "07887556440247f2b195d075debe3018",
       "version_major": 2,
       "version_minor": 0
      },
      "text/html": [
       "<div class='snapshot-07887556440247f2b195d075debe3018' style='position:relative;'><img src='data:image/png;base64,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' style='width:600.0px;height:600.0px;' /><div style='position: absolute; top:0; left:0; padding:1px 3px; background: #777; color:#fff; font-size: 90%; font-family:sans-serif; '>snapshot</div></div>"
      ],
      "text/plain": [
       "CanvasBackend(css_height='600px', css_width='600px')"
      ]
     },
     "metadata": {},
     "output_type": "display_data"
    }
   ],
   "source": [
    "stkF1s2_rot = stkF1s2.apply_rotation(rotvec)\n",
    "\n",
    "# Complex scalar multiplication\n",
    "stkF1s2_i = stkF1s2 * 1j\n",
    "stkF1s2_rot_i = stkF1s2_rot * 1j\n",
    "\n",
    "with psh.visualize_layout(2, 2, figsize=(600, 600)):\n",
    "    stkF1s2.visualize(title=\"stkFs2\", help=False)\n",
    "    stkF1s2_rot.visualize(title=\"R_S stkFs2\", help=False)\n",
    "\n",
    "    stkF1s2_i.visualize(title=\"i * stkFs2\", help=False)\n",
    "    stkF1s2_rot_i.visualize(title=\"i * R_S stkFs2\", help=False)"
   ]
  },
  {
   "cell_type": "markdown",
   "metadata": {},
   "source": [
    "* Complex inner product\n",
    "$$\\tag{variant of S-Def. 3.4.(2)}\n",
    "{\\left\\langle \\left[s_1+is_2\\right]_{\\vec {\\mathbf F}}, \\left[t_1+it_2\\right]_{\\vec {\\mathbf F}}\\right\\rangle}_{\\mathcal S | \\mathbb{C}} = \\left(s_1-is_2\\right)\\left(t_1+it_2\\right)\n",
    "$$"
   ]
  },
  {
   "cell_type": "code",
   "execution_count": 11,
   "metadata": {},
   "outputs": [
    {
     "name": "stdout",
     "output_type": "stream",
     "text": [
      "stkF1s2.Stk=array([1, 0]), stkF2s2.Stk=array([0, 1]), inner_comp12=1j\n",
      "\n",
      "Complex inner product between two spin-2 Stokes vectors is also well-defined!\n"
     ]
    }
   ],
   "source": [
    "def inner_comp(stki: psh.StokesField, stkj: psh.StokesField) -> complex:\n",
    "    # `psh.vec2comp`: 2-dim vector to complex\n",
    "    return psh.vec2comp(stki.Stk).conj() * psh.vec2comp(stkj.wrt_SphFF(stki.SphFF))\n",
    "\n",
    "stkF2s2 = stkF2.to_CodType(\"POLAR2\")\n",
    "inner_comp12 = inner_comp(stkF1s2, stkF2s2)\n",
    "assert stkF1s2.SphFF is stkF2s2.SphFF\n",
    "print(f\"{stkF1s2.Stk=}, {stkF2s2.Stk=}, {inner_comp12=}\\n\")\n",
    "\n",
    "# ---------- Well-definedness ----------\n",
    "for sphFFi in sphFF_list:\n",
    "    for sphFFj in sphFF_list:\n",
    "        assert np.allclose(inner_comp12, inner_comp(stkF1s2.to_SphFF(sphFFi), stkF2s2.to_SphFF(sphFFj)))\n",
    "print(\"Complex inner product between two spin-2 Stokes vectors is also well-defined!\")"
   ]
  },
  {
   "cell_type": "markdown",
   "metadata": {},
   "source": [
    "Some properties of complex inner products. For any $\\overset\\leftrightarrow s,\\overset\\leftrightarrow t\\in\\mathcal{S}_{\\hat\\omega}$,\n",
    "$$\n",
    "\\begin{align}\n",
    "    {\\left\\langle \\overset\\leftrightarrow s, i \\overset\\leftrightarrow s \\right\\rangle}_{\\mathcal S | \\mathbb{C}} &= i{\\left\\langle  \\overset\\leftrightarrow s,  \\overset\\leftrightarrow s \\right\\rangle}_{\\mathcal S |\\mathbb{C}} = i{\\left\\langle  \\overset\\leftrightarrow s,  \\overset\\leftrightarrow s \\right\\rangle}_{\\mathcal S} ,\\nonumber \\\\\n",
    "    {\\left\\langle \\overset\\leftrightarrow s,  \\overset\\leftrightarrow t \\right\\rangle}_{\\mathcal S | \\mathbb{C}} &= {\\left\\langle  \\overset\\leftrightarrow t,  \\overset\\leftrightarrow s \\right\\rangle}_{\\mathcal S | \\mathbb{C}}^* ,\\nonumber\\\\\n",
    "    {\\left\\langle \\overset\\leftrightarrow s,  \\overset\\leftrightarrow t \\right\\rangle}_{\\mathcal S | \\mathbb{C}} &= {\\left\\langle \\overset\\leftrightarrow s,  \\overset\\leftrightarrow t \\right\\rangle}_{\\mathcal S} + i {\\left\\langle i \\overset\\leftrightarrow s,  \\overset\\leftrightarrow t \\right\\rangle}_{\\mathcal S} .\\nonumber\n",
    "    \n",
    "\\end{align}"
   ]
  },
  {
   "cell_type": "code",
   "execution_count": 12,
   "metadata": {},
   "outputs": [
    {
     "name": "stdout",
     "output_type": "stream",
     "text": [
      "Clear!\n"
     ]
    }
   ],
   "source": [
    "stkF3s2 = stkF3.to_CodType(\"POLAR2\")\n",
    "stkFs2_list = [stkF1s2, stkF2s2, stkF3s2]\n",
    "for stkFi in stkFs2_list:\n",
    "    assert np.allclose(inner_comp(stkFi, stkFi * 1j), 1j*inner_comp(stkFi, stkFi))\n",
    "    assert np.allclose(inner_comp(stkFi, stkFi * 1j), 1j*inner(stkFi, stkFi))\n",
    "\n",
    "    for stkFj in stkFs2_list:\n",
    "        assert np.allclose(inner_comp(stkFi, stkFj), inner_comp(stkFj, stkFi).conj())\n",
    "        assert np.allclose(inner_comp(stkFi, stkFj), inner(stkFi, stkFj) + 1j*inner(stkFi*1j, stkFj))\n",
    "print(\"Clear!\")"
   ]
  }
 ],
 "metadata": {
  "kernelspec": {
   "display_name": "polarsh",
   "language": "python",
   "name": "python3"
  },
  "language_info": {
   "codemirror_mode": {
    "name": "ipython",
    "version": 3
   },
   "file_extension": ".py",
   "mimetype": "text/x-python",
   "name": "python",
   "nbconvert_exporter": "python",
   "pygments_lexer": "ipython3",
   "version": "3.11.7"
  }
 },
 "nbformat": 4,
 "nbformat_minor": 2
}
